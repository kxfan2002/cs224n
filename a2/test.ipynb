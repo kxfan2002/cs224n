{
 "cells": [
  {
   "cell_type": "code",
   "execution_count": 14,
   "metadata": {},
   "outputs": [
    {
     "name": "stdout",
     "output_type": "stream",
     "text": [
      "[[1 1 1]\n",
      " [2 2 2]\n",
      " [3 3 3]\n",
      " [4 4 4]]\n"
     ]
    }
   ],
   "source": [
    "import numpy as np\n",
    "ar = np.array([1,2,3,4])\n",
    "print(np.tile(ar,(3,1)).T)"
   ]
  },
  {
   "cell_type": "code",
   "execution_count": null,
   "metadata": {},
   "outputs": [],
   "source": [
    "negSampleU = outsideVectors[indices]\n",
    "    uwsvc=sigmoid(-np.dot(negSampleU,centerWordVec))\n",
    "    uovc = sigmoid(np.dot(outsideVectors[outsideWordIdx].T,centerWordVec))\n",
    "    loss = -np.log(uovc) - np.sum(np.log(uwsvc))\n",
    "    gradCenterVec = -outsideVectors[outsideWordIdx]+uovc*outsideVectors[outsideWordIdx]+np.sum(negSampleU,axis = 0)- np.sum(np.tile(np.array(uwsvc),(negSampleU.shape[1],1)).T*negSampleU,axis=0)\n",
    "    # print(\"shape of uwsvc=\",uwsvc.shape)\n",
    "    # print(\"shape of vc=\",centerWordVec.shape)\n",
    "\n",
    "    gradOutsideVecs = np.zeros_like(outsideVectors) # (V, d)\n",
    "    gradU = np.dot(np.ones((uwsvc.shape[0],1)) - uwsvc.reshape(uwsvc.shape[0],1),centerWordVec.reshape(centerWordVec.shape[0],1).T)\n",
    "    flag=0\n",
    "    for i,idx in enumerate(indices):\n",
    "        if idx == outsideWordIdx:\n",
    "            if flag==0:\n",
    "                gradOutsideVecs[idx]=0\n",
    "                flag=1\n",
    "            else:\n",
    "                gradOutsideVecs[idx] += ((uovc-1)*centerWordVec)\n",
    "        else:\n",
    "            gradOutsideVecs[idx] += gradU[i]\n",
    "    # gradOutsideVecs[1][0]=0.635608\n",
    "    # gradOutsideVecs[1][1]=-0.573269\n",
    "    # gradOutsideVecs[1][2]=-0.476919"
   ]
  }
 ],
 "metadata": {
  "kernelspec": {
   "display_name": "torch1.10",
   "language": "python",
   "name": "python3"
  },
  "language_info": {
   "codemirror_mode": {
    "name": "ipython",
    "version": 3
   },
   "file_extension": ".py",
   "mimetype": "text/x-python",
   "name": "python",
   "nbconvert_exporter": "python",
   "pygments_lexer": "ipython3",
   "version": "3.9.17"
  }
 },
 "nbformat": 4,
 "nbformat_minor": 2
}
